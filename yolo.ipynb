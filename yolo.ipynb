{
 "cells": [
  {
   "cell_type": "code",
   "execution_count": 23,
   "metadata": {},
   "outputs": [],
   "source": [
    "import torch\n",
    "from ultralytics import YOLO"
   ]
  },
  {
   "cell_type": "code",
   "execution_count": 24,
   "metadata": {},
   "outputs": [
    {
     "name": "stdout",
     "output_type": "stream",
     "text": [
      "Downloading https://github.com/ultralytics/assets/releases/download/v8.3.0/yolov8n.pt to 'yolov8n.pt'...\n"
     ]
    },
    {
     "name": "stderr",
     "output_type": "stream",
     "text": [
      "100.0%\n"
     ]
    }
   ],
   "source": [
    "model = YOLO('yolov8n.pt')"
   ]
  },
  {
   "cell_type": "code",
   "execution_count": 6,
   "metadata": {},
   "outputs": [],
   "source": [
    "data_yaml_path = 'data_mz/data.yaml'\n"
   ]
  },
  {
   "cell_type": "code",
   "execution_count": null,
   "metadata": {},
   "outputs": [],
   "source": [
    "model.train(\n",
    "    data=data_yaml_path,   # Path to data.yaml\n",
    "    epochs=50,             # Number of epochs\n",
    "    imgsz=799,             # Image size\n",
    "    batch=16,              # Batch size\n",
    "    name='maize_seed_model',  # Experiment name\n",
    "    device=0               # Use GPU (set to 'cpu' if you want to use CPU)\n",
    ")\n"
   ]
  },
  {
   "cell_type": "code",
   "execution_count": null,
   "metadata": {},
   "outputs": [],
   "source": []
  },
  {
   "cell_type": "code",
   "execution_count": 20,
   "metadata": {},
   "outputs": [],
   "source": [
    "# import torch\n",
    "# import torchvision.ops as ops\n",
    "\n",
    "# # Example tensors\n",
    "# boxes = torch.tensor([[0, 0, 10, 10], [0, 0, 9, 9]], dtype=torch.float32).cuda()\n",
    "# scores = torch.tensor([0.9, 0.8], dtype=torch.float32).cuda()\n",
    "\n",
    "# # Perform NMS\n",
    "# keep = ops.nms(boxes, scores, iou_threshold=0.5)\n",
    "# print(keep)"
   ]
  },
  {
   "cell_type": "code",
   "execution_count": 2,
   "metadata": {},
   "outputs": [
    {
     "name": "stdout",
     "output_type": "stream",
     "text": [
      "True\n"
     ]
    }
   ],
   "source": [
    "import torch\n",
    "print(torch.cuda.is_available())"
   ]
  },
  {
   "cell_type": "code",
   "execution_count": 7,
   "metadata": {},
   "outputs": [
    {
     "data": {
      "text/plain": [
       "['12', '4']"
      ]
     },
     "execution_count": 7,
     "metadata": {},
     "output_type": "execute_result"
    }
   ],
   "source": [
    "torch.version.cuda.split(\".\")"
   ]
  },
  {
   "cell_type": "code",
   "execution_count": 1,
   "metadata": {},
   "outputs": [],
   "source": [
    "import torch"
   ]
  },
  {
   "cell_type": "code",
   "execution_count": 21,
   "metadata": {},
   "outputs": [],
   "source": [
    "# import shutil\n",
    "\n",
    "# # Path to the best model weights\n",
    "# best_model_path = 'runs/detect/maize_seed_model/weights/best.pt'\n",
    "\n",
    "# # Desired path to save the model\n",
    "# save_path = 'saved_models/maize_seed_model.pt'\n",
    "\n",
    "# # Save the model\n",
    "# shutil.copy(best_model_path, save_path)\n",
    "# print(f\"Model manually saved to {save_path}\")"
   ]
  },
  {
   "cell_type": "code",
   "execution_count": 19,
   "metadata": {},
   "outputs": [
    {
     "name": "stdout",
     "output_type": "stream",
     "text": [
      "\n",
      "image 1/1 c:\\torch\\image.png: 800x800 19 corns, 25.5ms\n",
      "Speed: 10.0ms preprocess, 25.5ms inference, 4.0ms postprocess per image at shape (1, 3, 800, 800)\n"
     ]
    }
   ],
   "source": [
    "import cv2\n",
    "from ultralytics import YOLO\n",
    "\n",
    "# Load the saved model\n",
    "\n",
    "# Load the image\n",
    "image_path = 'image.png'\n",
    "image = cv2.imread(image_path)\n",
    "\n",
    "# Run inference\n",
    "results = model.predict(source=image_path, conf=0.5, save=False)\n",
    "\n",
    "# Draw bounding boxes on the image\n",
    "for result in results:\n",
    "    for box in result.boxes:\n",
    "        # Extract box coordinates and confidence score\n",
    "        x1, y1, x2, y2 = map(int, box.xyxy[0])  # Bounding box coordinates\n",
    "        conf = float(box.conf[0])  # Confidence score\n",
    "        \n",
    "        # Draw the rectangle and label on the image\n",
    "        label = f'Maize Seed: {conf:.2f}'\n",
    "        cv2.rectangle(image, (x1, y1), (x2, y2), (0, 255, 0), 1)  # Green box\n",
    "        # cv2.putText(image, label, (x1, y1 - 10), cv2.FONT_HERSHEY_SIMPLEX, \n",
    "        #             0.5, (0, 255, 0), 2)\n",
    "\n",
    "# Display the image with bounding boxes\n",
    "cv2.imshow('Detected Maize Seeds', cv2.resize(image,(1000,1000)))\n",
    "cv2.waitKey(0)  # Press any key to close the window\n",
    "cv2.destroyAllWindows()\n"
   ]
  },
  {
   "cell_type": "code",
   "execution_count": 25,
   "metadata": {},
   "outputs": [
    {
     "name": "stdout",
     "output_type": "stream",
     "text": [
      "\n",
      "image 1/1 c:\\torch\\multi.jpg: 800x800 14 corns, 23.0ms\n",
      "Speed: 10.0ms preprocess, 23.0ms inference, 3.0ms postprocess per image at shape (1, 3, 800, 800)\n"
     ]
    }
   ],
   "source": [
    "import cv2\n",
    "from ultralytics import YOLO\n",
    "\n",
    "# Load the saved model\n",
    "model_path = 'best.pt'\n",
    "model = YOLO(model_path)\n",
    "\n",
    "# Load the image\n",
    "image_path = 'multi.jpg'\n",
    "image = cv2.imread(image_path)\n",
    "\n",
    "# Run inference\n",
    "results = model.predict(source=image_path, conf=0.5, save=False)\n",
    "\n",
    "# Draw bounding boxes on the image\n",
    "for result in results:\n",
    "    for box in result.boxes:\n",
    "        # Extract box coordinates and confidence score\n",
    "        x1, y1, x2, y2 = map(int, box.xyxy[0])  # Bounding box coordinates\n",
    "        conf = float(box.conf[0])  # Confidence score\n",
    "        \n",
    "        # Draw the rectangle and label on the image\n",
    "        label = f'Maize Seed: {conf:.2f}'\n",
    "        cv2.rectangle(image, (x1, y1), (x2, y2), (0, 255, 0), 2)  # Green box\n",
    "        cv2.putText(image, label, (x1, y1 - 10), cv2.FONT_HERSHEY_SIMPLEX, \n",
    "                    0.5, (0, 255, 0), 2)\n",
    "\n",
    "# Display the image with bounding boxes\n",
    "cv2.imshow('Detected Maize Seeds', image)\n",
    "cv2.waitKey(0)  # Press any key to close the window\n",
    "cv2.destroyAllWindows()\n"
   ]
  },
  {
   "cell_type": "code",
   "execution_count": null,
   "metadata": {},
   "outputs": [],
   "source": []
  }
 ],
 "metadata": {
  "kernelspec": {
   "display_name": ".yolovenv",
   "language": "python",
   "name": "python3"
  },
  "language_info": {
   "codemirror_mode": {
    "name": "ipython",
    "version": 3
   },
   "file_extension": ".py",
   "mimetype": "text/x-python",
   "name": "python",
   "nbconvert_exporter": "python",
   "pygments_lexer": "ipython3",
   "version": "3.11.7"
  }
 },
 "nbformat": 4,
 "nbformat_minor": 2
}
