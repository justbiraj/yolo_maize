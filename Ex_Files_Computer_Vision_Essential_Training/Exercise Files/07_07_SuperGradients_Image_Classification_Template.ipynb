{
  "nbformat": 4,
  "nbformat_minor": 0,
  "metadata": {
    "colab": {
      "provenance": []
    },
    "kernelspec": {
      "name": "python3",
      "display_name": "Python 3"
    },
    "language_info": {
      "name": "python"
    }
  },
  "cells": [
    {
      "cell_type": "markdown",
      "source": [
        "# 👋🏽 What's up! It's [Harpreet](https://twitter.com/DataScienceHarp)\n",
        "\n",
        "I'll be guiding you through this notebook. At any point, if you get stuck or have questions, there are three ways to get in touch:\n",
        "\n",
        "1) Send me an email with your issue: harpreet.sahota@deci.ai\n",
        "\n",
        "2) Hop into the [Deep Learning Daily (powered by Deci) Discord server](https://discord.gg/p9ecgRhDR8), and let me know what your question is.\n",
        "\n",
        "3) [Open an issue on GitHub](https://github.com/Deci-AI/super-gradients/issues/new/choose)\n",
        "\n",
        "---\n",
        "\n",
        "# 🖼️ Image Classification Project Template with SuperGradients\n",
        "\n",
        "This notebook template is for data that is already in ImageFolder format.\n",
        "\n",
        "If you are unfamiliar with ImageFolder format, it looks like this:\n",
        "\n",
        "```\n",
        "├── train\n",
        "│   ├── class1\n",
        "|      ├── 1.jpg\n",
        "│      ├── 2.jpg\n",
        "│   ├── class2\n",
        "|      ├── 1.jpg\n",
        "│      ├── 2.jpg\n",
        "├── valid\n",
        "│   ├── class1\n",
        "|      ├── 1.jpg\n",
        "│      ├── 2.jpg\n",
        "│   ├── class2\n",
        "|      ├── 1.jpg\n",
        "│      ├── 2.jpg\n",
        "```\n",
        "\n",
        "With parent folder repeating for validtaion and testing data."
      ],
      "metadata": {
        "id": "M_LdvkGuIx9w"
      }
    },
    {
      "cell_type": "code",
      "source": [
        "%%capture\n",
        "!pip install super_gradients==3.2.0"
      ],
      "metadata": {
        "id": "4Siqg0CJDbCI"
      },
      "execution_count": null,
      "outputs": []
    },
    {
      "cell_type": "code",
      "source": [
        "import os\n",
        "from pathlib import Path\n",
        "\n",
        "import torch\n",
        "from torchvision import datasets, transforms\n",
        "\n",
        "import super_gradients\n",
        "from super_gradients.common.object_names import Models\n",
        "from super_gradients.training import Trainer, training_hyperparams, models"
      ],
      "metadata": {
        "id": "wU8-ACNWa_Eh"
      },
      "execution_count": null,
      "outputs": []
    },
    {
      "cell_type": "markdown",
      "source": [
        "# ⚒️ Config\n",
        "\n",
        "This holds variables for the notebook.\n",
        "\n",
        "You will define the model, training params, image type, number of classes, and\n",
        "relevant directories in this class.\n",
        "\n",
        "\n",
        "\n",
        "If you have a question you can leave a comment on this notebook, or visit the community and post it in the [Q&A section](https://www.deeplearningdaily.community).\n"
      ],
      "metadata": {
        "id": "gPKlFKEJDfWF"
      }
    },
    {
      "cell_type": "code",
      "source": [
        "class config:\n",
        "    # specify the paths to datasets\n",
        "    ROOT_DIR = Path()\n",
        "    TRAIN_DIR = ROOT_DIR.joinpath('train')\n",
        "    TEST_DIR = ROOT_DIR.joinpath('test')\n",
        "    VAL_DIR = ROOT_DIR.joinpath('val')\n",
        "\n",
        "    CHECKPOINT_DIR = 'checkpoints'\n",
        "    EXPERIMENT_NAME = \"YOUR-EXPERIMENT-NAME\"\n",
        "    PRETRAINED_WEIGHTS = 'imagenet'\n",
        "\n",
        "    # note if you're averaging the best model then replace \"ckpt_best.pth\" with \"average_model.pth\"\n",
        "    CHECKPOINT_TYPE = \"ckpt_best.pth\"\n",
        "\n",
        "    # set the input height and width\n",
        "    INPUT_HEIGHT = 224\n",
        "    INPUT_WIDTH = 224\n",
        "\n",
        "    # what mean and std do you want to standardize to\n",
        "    NORM_MEAN = [0.485, 0.456, 0.406]\n",
        "    NORM_STD = [0.229, 0.224, 0.225]\n",
        "\n",
        "    BATCH_SIZE = #CHOOSE-YOUR-BATCH-SIZE\n",
        "    MODEL_NAME = \"CHOOSE-YOUR-MODEL\"\n",
        "    DEVICE = 'cuda' if torch.cuda.is_available() else 'cpu'\n",
        "\n",
        "    TRAINING_PARAMS = 'training_hyperparams/default_train_params'\n",
        "    LOSS = \"cross_entropy\"\n",
        "    OPTIMIZER = 'Adam'\n",
        "    EPOCHS = 100\n",
        "    INITIAL_LR = 3e-4\n",
        "\n",
        "    NUM_CLASSES = #HOW-MANY-CLASSES\n",
        "\n",
        "    METRICS_LIST = ['Accuracy', 'Top5']"
      ],
      "metadata": {
        "id": "5bsqNIJ7DoO2"
      },
      "execution_count": null,
      "outputs": []
    },
    {
      "cell_type": "markdown",
      "source": [
        "# 💾 Dataset and Dataloader\n",
        "\n",
        "You can experiment with any transforms you'd like. [Here](https://pytorch.org/vision/stable/auto_examples/plot_transforms.html#sphx-glr-auto-examples-plot-transforms-py) are the torchvision transforms you can use."
      ],
      "metadata": {
        "id": "Ic8WXQILKc1y"
      }
    },
    {
      "cell_type": "code",
      "source": [
        "# define the transform\n",
        "train_transform = transforms.Compose([\n",
        "    transforms.Resize((config.INPUT_HEIGHT, config.INPUT_WIDTH)),\n",
        "    transforms.ToTensor(),  # convert image to PyTorch tensor\n",
        "    transforms.Normalize(mean=config.NORM_MEAN, std=config.NORM_STD)\n",
        "])\n",
        "\n",
        "test_transform = transforms.Compose([\n",
        "    transforms.Resize((config.INPUT_HEIGHT, config.INPUT_WIDTH)),\n",
        "    transforms.ToTensor(),\n",
        "    transforms.Normalize(mean=config.NORM_MEAN, std=config.NORM_STD)\n",
        "])\n",
        "\n",
        "# define the datasets\n",
        "train_dataset = datasets.ImageFolder(config.TRAIN_DIR,\n",
        "                                     transform=train_transform\n",
        "                                     )\n",
        "\n",
        "val_dataset = datasets.ImageFolder(config.VAL_DIR,\n",
        "                                   transform=test_transform\n",
        "                                   )\n",
        "\n",
        "test_dataset = datasets.ImageFolder(config.TEST_DIR,\n",
        "                                    transform=test_transform\n",
        "                                    )\n",
        "\n",
        "# define the dataloaders\n",
        "train_loader = torch.utils.data.DataLoader(train_dataset,\n",
        "                                           batch_size=config.BATCH_SIZE,\n",
        "                                           shuffle=True\n",
        "                                           )\n",
        "\n",
        "val_loader = torch.utils.data.DataLoader(val_dataset,\n",
        "                                         batch_size=config.BATCH_SIZE,\n",
        "                                         shuffle=False\n",
        "                                         )\n",
        "\n",
        "test_loader = torch.utils.data.DataLoader(test_dataset,\n",
        "                                          batch_size=config.BATCH_SIZE,\n",
        "                                          shuffle=False\n",
        "                                          )"
      ],
      "metadata": {
        "id": "PzQIE96DKdKf"
      },
      "execution_count": null,
      "outputs": []
    },
    {
      "cell_type": "markdown",
      "source": [
        "# 🎛️ Training Params\n",
        "\n",
        "You'll use the [default training parameters](https://github.com/Deci-AI/super-gradients/blob/master/src/super_gradients/recipes/training_hyperparams/default_train_params.yaml) for this notebook."
      ],
      "metadata": {
        "id": "GG6RomNeGCnc"
      }
    },
    {
      "cell_type": "code",
      "source": [
        "training_params =  training_hyperparams.get(config.TRAINING_PARAMS)"
      ],
      "metadata": {
        "id": "Yn5OpeiPGEsu"
      },
      "execution_count": null,
      "outputs": []
    },
    {
      "cell_type": "code",
      "source": [
        "training_params"
      ],
      "metadata": {
        "colab": {
          "base_uri": "https://localhost:8080/"
        },
        "id": "DEHNISs7devZ",
        "outputId": "55915bb2-3018-4874-ef78-cd48ef2b9d01"
      },
      "execution_count": null,
      "outputs": [
        {
          "output_type": "execute_result",
          "data": {
            "text/plain": [
              "{'resume': False,\n",
              " 'resume_path': None,\n",
              " 'resume_from_remote_sg_logger': False,\n",
              " 'ckpt_name': 'ckpt_latest.pth',\n",
              " 'lr_mode': None,\n",
              " 'lr_schedule_function': None,\n",
              " 'lr_warmup_epochs': 0,\n",
              " 'lr_warmup_steps': 0,\n",
              " 'lr_cooldown_epochs': 0,\n",
              " 'warmup_initial_lr': None,\n",
              " 'step_lr_update_freq': None,\n",
              " 'cosine_final_lr_ratio': 0.01,\n",
              " 'warmup_mode': 'linear_epoch_step',\n",
              " 'lr_updates': [],\n",
              " 'pre_prediction_callback': None,\n",
              " 'optimizer': 'SGD',\n",
              " 'optimizer_params': {},\n",
              " 'load_opt_params': True,\n",
              " 'zero_weight_decay_on_bias_and_bn': False,\n",
              " 'loss': None,\n",
              " 'criterion_params': {},\n",
              " 'ema': False,\n",
              " 'ema_params': {'decay': 0.9999, 'decay_type': 'exp', 'beta': 15},\n",
              " 'train_metrics_list': [],\n",
              " 'valid_metrics_list': [],\n",
              " 'metric_to_watch': 'Accuracy',\n",
              " 'greater_metric_to_watch_is_better': True,\n",
              " 'launch_tensorboard': False,\n",
              " 'tensorboard_port': None,\n",
              " 'tb_files_user_prompt': False,\n",
              " 'save_tensorboard_to_s3': False,\n",
              " 'precise_bn': False,\n",
              " 'precise_bn_batch_size': None,\n",
              " 'sync_bn': False,\n",
              " 'silent_mode': False,\n",
              " 'mixed_precision': False,\n",
              " 'save_ckpt_epoch_list': [],\n",
              " 'average_best_models': True,\n",
              " 'dataset_statistics': False,\n",
              " 'batch_accumulate': 1,\n",
              " 'run_validation_freq': 1,\n",
              " 'run_test_freq': 1,\n",
              " 'save_model': True,\n",
              " 'seed': 42,\n",
              " 'phase_callbacks': [],\n",
              " 'log_installed_packages': True,\n",
              " 'clip_grad_norm': None,\n",
              " 'ckpt_best_name': 'ckpt_best.pth',\n",
              " 'max_train_batches': None,\n",
              " 'max_valid_batches': None,\n",
              " 'sg_logger': 'base_sg_logger',\n",
              " 'sg_logger_params': {'tb_files_user_prompt': False, 'launch_tensorboard': False, 'tensorboard_port': None, 'save_checkpoints_remote': False, 'save_tensorboard_remote': False, 'save_logs_remote': False, 'monitor_system': True},\n",
              " 'torch_compile': False,\n",
              " 'torch_compile_loss': False,\n",
              " 'torch_compile_options': {'mode': 'reduce-overhead', 'fullgraph': False, 'dynamic': False, 'backend': 'inductor', 'options': None, 'disable': False},\n",
              " '_convert_': 'all'}"
            ]
          },
          "metadata": {},
          "execution_count": 27
        }
      ]
    },
    {
      "cell_type": "code",
      "source": [
        "training_params['loss'] = config.LOSS\n",
        "training_params['optimizer'] = config.OPTIMIZER\n",
        "training_params['max_epochs'] = config.EPOCHS\n",
        "training_params['train_metrics_list'] = config.METRICS_LIST\n",
        "training_params['valid_metrics_list'] = config.METRICS_LIST\n",
        "training_params['initial_lr'] = config.INITIAL_LR"
      ],
      "metadata": {
        "id": "IX_FYlaQdVAl"
      },
      "execution_count": null,
      "outputs": []
    },
    {
      "cell_type": "code",
      "source": [
        "training_params"
      ],
      "metadata": {
        "colab": {
          "base_uri": "https://localhost:8080/"
        },
        "id": "2bkhFGTQc3Cs",
        "outputId": "4df14d13-6455-4c4a-e43b-217413044d6f"
      },
      "execution_count": null,
      "outputs": [
        {
          "output_type": "execute_result",
          "data": {
            "text/plain": [
              "{'resume': False,\n",
              " 'resume_path': None,\n",
              " 'resume_from_remote_sg_logger': False,\n",
              " 'ckpt_name': 'ckpt_latest.pth',\n",
              " 'lr_mode': None,\n",
              " 'lr_schedule_function': None,\n",
              " 'lr_warmup_epochs': 0,\n",
              " 'lr_warmup_steps': 0,\n",
              " 'lr_cooldown_epochs': 0,\n",
              " 'warmup_initial_lr': None,\n",
              " 'step_lr_update_freq': None,\n",
              " 'cosine_final_lr_ratio': 0.01,\n",
              " 'warmup_mode': 'linear_epoch_step',\n",
              " 'lr_updates': [],\n",
              " 'pre_prediction_callback': None,\n",
              " 'optimizer': 'SGD',\n",
              " 'optimizer_params': {},\n",
              " 'load_opt_params': True,\n",
              " 'zero_weight_decay_on_bias_and_bn': False,\n",
              " 'loss': 'cross_entropy',\n",
              " 'criterion_params': {},\n",
              " 'ema': False,\n",
              " 'ema_params': {'decay': 0.9999, 'decay_type': 'exp', 'beta': 15},\n",
              " 'train_metrics_list': ['Accuracy', 'Top5'],\n",
              " 'valid_metrics_list': ['Accuracy', 'Top5'],\n",
              " 'metric_to_watch': 'Accuracy',\n",
              " 'greater_metric_to_watch_is_better': True,\n",
              " 'launch_tensorboard': False,\n",
              " 'tensorboard_port': None,\n",
              " 'tb_files_user_prompt': False,\n",
              " 'save_tensorboard_to_s3': False,\n",
              " 'precise_bn': False,\n",
              " 'precise_bn_batch_size': None,\n",
              " 'sync_bn': False,\n",
              " 'silent_mode': False,\n",
              " 'mixed_precision': False,\n",
              " 'save_ckpt_epoch_list': [],\n",
              " 'average_best_models': True,\n",
              " 'dataset_statistics': False,\n",
              " 'batch_accumulate': 1,\n",
              " 'run_validation_freq': 1,\n",
              " 'run_test_freq': 1,\n",
              " 'save_model': True,\n",
              " 'seed': 42,\n",
              " 'phase_callbacks': [],\n",
              " 'log_installed_packages': True,\n",
              " 'clip_grad_norm': None,\n",
              " 'ckpt_best_name': 'ckpt_best.pth',\n",
              " 'max_train_batches': None,\n",
              " 'max_valid_batches': None,\n",
              " 'sg_logger': 'base_sg_logger',\n",
              " 'sg_logger_params': {'tb_files_user_prompt': False, 'launch_tensorboard': False, 'tensorboard_port': None, 'save_checkpoints_remote': False, 'save_tensorboard_remote': False, 'save_logs_remote': False, 'monitor_system': True},\n",
              " 'torch_compile': False,\n",
              " 'torch_compile_loss': False,\n",
              " 'torch_compile_options': {'mode': 'reduce-overhead', 'fullgraph': False, 'dynamic': False, 'backend': 'inductor', 'options': None, 'disable': False},\n",
              " '_convert_': 'all',\n",
              " 'max_epochs': 100,\n",
              " 'initial_lr': 0.0003}"
            ]
          },
          "metadata": {},
          "execution_count": 29
        }
      ]
    },
    {
      "cell_type": "markdown",
      "source": [
        "There are a few things you can try to see how you fare: try a different optimizer (you can the optimizer by using a passing of the following strings \"Adam\", \"AdamW\", \"SGD\", or \"RMSProp\"."
      ],
      "metadata": {
        "id": "6VFsBMDMcOQX"
      }
    },
    {
      "cell_type": "markdown",
      "source": [
        "# 👩🏽‍🦳 Instantiate model\n",
        "\n"
      ],
      "metadata": {
        "id": "Glmd2R98GZmd"
      }
    },
    {
      "cell_type": "code",
      "source": [
        "model = models.get(config.MODEL_NAME,\n",
        "                   num_classes = config.NUM_CLASSES,\n",
        "                   pretrained_weights=config.PRETRAINED_WEIGHTS)"
      ],
      "metadata": {
        "id": "rht8gYzaGFFn"
      },
      "execution_count": null,
      "outputs": []
    },
    {
      "cell_type": "markdown",
      "source": [
        "# 🏋🏾 Instantiate trainer"
      ],
      "metadata": {
        "id": "ZliLB58FGFYr"
      }
    },
    {
      "cell_type": "code",
      "source": [
        "trainer = Trainer(ckpt_root_dir=config.CHECKPOINT_DIR,\n",
        "                  experiment_name=config.EXPERIMENT_NAME\n",
        "                  )"
      ],
      "metadata": {
        "id": "uBGak3EPGHVA"
      },
      "execution_count": null,
      "outputs": []
    },
    {
      "cell_type": "markdown",
      "source": [
        "# 🦾 Train model"
      ],
      "metadata": {
        "id": "7zwKpRYiGcIK"
      }
    },
    {
      "cell_type": "code",
      "source": [
        "trainer.train(model=model,\n",
        "              training_params=training_params,\n",
        "              train_loader=train_dataloader,\n",
        "              valid_loader=valid_dataloader)"
      ],
      "metadata": {
        "id": "VaavBbnFGcat"
      },
      "execution_count": null,
      "outputs": []
    },
    {
      "cell_type": "markdown",
      "source": [
        "# 🙌🏼 Load best model"
      ],
      "metadata": {
        "id": "OtDlvFYp4OAf"
      }
    },
    {
      "cell_type": "code",
      "source": [
        "best_model = models.get(config.MODEL_NAME,\n",
        "                        num_classes=config.NUM_CLASSES,\n",
        "                        checkpoint_path=os.path.join(full_model_trainer.checkpoints_dir_path,\n",
        "                                                     config.CHECKPOINT_TYPE)\n",
        "                        )"
      ],
      "metadata": {
        "id": "sguIHkpa4Og3"
      },
      "execution_count": null,
      "outputs": []
    },
    {
      "cell_type": "markdown",
      "source": [
        "# 🧐 Evaluate on test set"
      ],
      "metadata": {
        "id": "u-n1DyypGkjr"
      }
    },
    {
      "cell_type": "code",
      "source": [
        "trainer.test(model=best_model,\n",
        "             test_loader=test_dataloader,\n",
        "             test_metrics_list=config.METRICS_LIST\n",
        "             )"
      ],
      "metadata": {
        "id": "Z8H6camVGmY3"
      },
      "execution_count": null,
      "outputs": []
    },
    {
      "cell_type": "markdown",
      "source": [
        "# 🔮 Predicting with the best model"
      ],
      "metadata": {
        "id": "mKzUsIQlgRPM"
      }
    },
    {
      "cell_type": "code",
      "source": [
        "from super_gradients.training.processing.processing import default_imagenet_processing_params\n",
        "processing_params = default_imagenet_processing_params()\n",
        "processing_params['class_names'] = train_dataset.classes\n",
        "best_model.set_dataset_processing_params(**processing_params)"
      ],
      "metadata": {
        "id": "Q6fgi85eeuvG"
      },
      "execution_count": null,
      "outputs": []
    },
    {
      "cell_type": "code",
      "source": [
        "img_url = 'ENTER-SOME-URL-HERE'\n",
        "best_model.predict(img_url).show()"
      ],
      "metadata": {
        "id": "uRJl5IJBeu4n"
      },
      "execution_count": null,
      "outputs": []
    },
    {
      "cell_type": "markdown",
      "source": [
        "# Your homework\n",
        "\n",
        "Copy/fork this notebook and try some different architectures.\n",
        "\n",
        "If you have a question you can leave a comment on this notebook, or visit the community and post it in the [Q&A section](https://www.deeplearningdaily.community).\n",
        "\n",
        "## Use a different pretrained model\n",
        "\n",
        "You can change the model you use. Take a look at the [SG model zoo](https://github.com/Deci-AI/super-gradients/blob/master/documentation/source/model_zoo.md)\n",
        "\n",
        "For example, if you wanted to use RegNet you would do the following:\n",
        "\n",
        "```\n",
        "resnet_imagenet_model = models.get(model_name='regnetY800', num_classes=NUM_CLASSES, pretrained_weights='imagenet)\n",
        "resnet_params =  training_hyperparams.get('training_hyperparams/imagenet_regnetY_train_params')\n",
        "```\n",
        "\n",
        "Note you can also pass 'model_name=regnetY200', 'model_name=regnetY400', 'model_name=regnetY600' to try a variety of the architecture\n",
        "\n",
        "For ResNet50, you would do:\n",
        "\n",
        "```\n",
        "resnet_imagenet_model = models.get(model_name='resnet50', num_classes=NUM_CLASSES, pretrained_weights='imagenet)\n",
        "resnet_params =  training_hyperparams.get('training_hyperparams/imagenet_resnet50_train_params')\n",
        "```\n",
        "\n",
        "Note you can also pass 'model_name=resnet18' or 'model_name=resnet34' to try a variety of the architecture\n",
        "\n",
        "For MobileNetV2, you would do:\n",
        "\n",
        "```\n",
        "mobilenet_imagenet_model = models.get(model_name='mobilenet_v2', num_classes=NUM_CLASSES, pretrained_weights='imagenet)\n",
        "resnet_params =  training_hyperparams.get('training_hyperparams/imagenet_mobilenetv2_train_params')\n",
        "```\n",
        "\n",
        "For MobileNetV3, you would do:\n",
        "\n",
        "```\n",
        "mobilenet_imagenet_model = models.get(model_name='mobilenet_v3_large', num_classes=NUM_CLASSES, pretrained_weights='imagenet)\n",
        "resnet_params =  training_hyperparams.get('training_hyperparams/imagenet_mobilenetv3_train_params')\n",
        "```\n",
        "\n",
        "Note you can also pass 'model_name=mobilenet_v3_small' to try a variety of the architecture\n",
        "\n",
        "\n",
        "For ViT, you would do:\n",
        "\n",
        "\n",
        "```\n",
        "vit_imagenet_model = models.get(model_name='vit_base', num_classes=NUM_CLASSES, pretrained_weights='imagenet')\n",
        "vit_params =  training_hyperparams.get(\"training_hyperparams/imagenet_vit_train_params\")\n",
        "```\n",
        "\n",
        "Note you can also pass 'model_name=vit_large' to try a variety of the architecture\n",
        "\n",
        "\n",
        "I encourage you play around with different optimizers, all you have to do is change the value of `training_params[\"optimizer\"]`. You can use one of ['Adam','SGD','RMSProp'] out of the box. You can play around with the optimizer params as well.\n",
        "\n",
        "In general, play and tweak around the training recipies...\n",
        "\n",
        "## Training recipes\n",
        "\n",
        "SuperGradients has a number of [training recipes](https://github.com/Deci-AI/super-gradients/tree/master/src/super_gradients/recipes) you can use. [See here](https://github.com/Deci-AI/super-gradients/blob/master/src/super_gradients/recipes/training_hyperparams/default_train_params.yaml) for more information about the training params."
      ],
      "metadata": {
        "id": "grHxgV51Jv_G"
      }
    }
  ]
}